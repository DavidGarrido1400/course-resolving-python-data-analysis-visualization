{
 "cells": [
  {
   "cell_type": "markdown",
   "id": "9770afb4-2609-4152-a3d5-9ba337927fb9",
   "metadata": {},
   "source": [
    "# Python Foundations for Data Visualization"
   ]
  },
  {
   "cell_type": "markdown",
   "id": "c37b2f3e-2439-4e9f-8611-1ade1202d0a6",
   "metadata": {},
   "source": [
    "## Create objects with data"
   ]
  },
  {
   "cell_type": "markdown",
   "id": "ed9e451e-7f65-430b-8e18-a738dcb92b2c",
   "metadata": {},
   "source": [
    "### Football Teams"
   ]
  },
  {
   "cell_type": "code",
   "execution_count": 1,
   "id": "460c007d-a40b-47a4-b6cd-906644a8f634",
   "metadata": {},
   "outputs": [],
   "source": [
    "football_teams = ['Real Madrid', 'Barcelona', 'Bayern Munich']"
   ]
  },
  {
   "cell_type": "code",
   "execution_count": 2,
   "id": "771b9419-39b5-460a-8a2c-1b5dc6081009",
   "metadata": {},
   "outputs": [
    {
     "data": {
      "text/plain": [
       "['Real Madrid', 'Barcelona', 'Bayern Munich']"
      ]
     },
     "execution_count": 2,
     "metadata": {},
     "output_type": "execute_result"
    }
   ],
   "source": [
    "football_teams"
   ]
  },
  {
   "cell_type": "markdown",
   "id": "db095953-5695-4b52-90ea-e1347986cd56",
   "metadata": {},
   "source": [
    "### Champions Leagues"
   ]
  },
  {
   "cell_type": "code",
   "execution_count": 3,
   "id": "a9a90ee9-8196-471a-89d6-99e868e8a581",
   "metadata": {},
   "outputs": [],
   "source": [
    "champions_leagues = [14, 5, 6]"
   ]
  },
  {
   "cell_type": "markdown",
   "id": "65f455ae-544f-42eb-a4d6-8159d70d8db7",
   "metadata": {},
   "source": [
    "<div class=\"alert alert-info\">\n",
    "    The <b>function</b> processes data to give you the result you want.\n",
    "    <br><b>Libraries</b> store functions to give you results of a particular topic.\n",
    "</div>"
   ]
  },
  {
   "cell_type": "markdown",
   "id": "104283e9-d324-41cf-97fd-3fa6d6594032",
   "metadata": {},
   "source": [
    "## Import matplotlib library\n",
    "\n",
    "> **Mat**hematical **Plot**ting **Lib**rary\n",
    "\n",
    "Matplotlib is a Python library that contains functions to create Data Visualizations"
   ]
  },
  {
   "cell_type": "code",
   "execution_count": 4,
   "id": "cc78e6bc-2140-4d0e-977e-a4f598f50914",
   "metadata": {},
   "outputs": [],
   "source": [
    "import matplotlib.pyplot as plt"
   ]
  },
  {
   "cell_type": "markdown",
   "id": "5d51e871-8fdb-4478-b663-e6c1a8109001",
   "metadata": {},
   "source": [
    "### Scatter plot (points)"
   ]
  },
  {
   "cell_type": "code",
   "execution_count": 7,
   "id": "7648c009-e645-4844-b2af-6077117ea8f9",
   "metadata": {},
   "outputs": [
    {
     "data": {
      "text/plain": [
       "<module 'matplotlib.pyplot' from '/home/codespace/.local/lib/python3.10/site-packages/matplotlib/pyplot.py'>"
      ]
     },
     "execution_count": 7,
     "metadata": {},
     "output_type": "execute_result"
    }
   ],
   "source": [
    "plt"
   ]
  },
  {
   "cell_type": "code",
   "execution_count": 6,
   "id": "40de7996-eba0-4b57-85f8-be0cde16cb26",
   "metadata": {},
   "outputs": [
    {
     "data": {
      "text/plain": [
       "<function matplotlib.pyplot.scatter(x: 'float | ArrayLike', y: 'float | ArrayLike', s: 'float | ArrayLike | None' = None, c: 'Sequence[ColorType] | ColorType | None' = None, marker: 'MarkerType | None' = None, cmap: 'str | Colormap | None' = None, norm: 'str | Normalize | None' = None, vmin: 'float | None' = None, vmax: 'float | None' = None, alpha: 'float | None' = None, linewidths: 'float | Sequence[float] | None' = None, *, edgecolors: \"Literal['face', 'none'] | ColorType | Sequence[ColorType] | None\" = None, plotnonfinite: 'bool' = False, data=None, **kwargs) -> 'PathCollection'>"
      ]
     },
     "execution_count": 6,
     "metadata": {},
     "output_type": "execute_result"
    }
   ],
   "source": [
    "plt.scatter"
   ]
  },
  {
   "cell_type": "code",
   "execution_count": null,
   "id": "8f755664-114c-4405-9c6d-da6959c01f64",
   "metadata": {},
   "outputs": [],
   "source": [
    "shift + tab"
   ]
  },
  {
   "cell_type": "code",
   "execution_count": null,
   "id": "a36f23ed-eca3-4159-8707-7fda4887a9c3",
   "metadata": {},
   "outputs": [],
   "source": [
    "plt.scatter"
   ]
  },
  {
   "cell_type": "code",
   "execution_count": 8,
   "id": "6697c657-6115-4c8d-bf13-ab0bd389db8d",
   "metadata": {},
   "outputs": [
    {
     "ename": "TypeError",
     "evalue": "scatter() missing 2 required positional arguments: 'x' and 'y'",
     "output_type": "error",
     "traceback": [
      "\u001b[0;31m---------------------------------------------------------------------------\u001b[0m",
      "\u001b[0;31mTypeError\u001b[0m                                 Traceback (most recent call last)",
      "Cell \u001b[0;32mIn[8], line 1\u001b[0m\n\u001b[0;32m----> 1\u001b[0m \u001b[43mplt\u001b[49m\u001b[38;5;241;43m.\u001b[39;49m\u001b[43mscatter\u001b[49m\u001b[43m(\u001b[49m\u001b[43m)\u001b[49m\n",
      "\u001b[0;31mTypeError\u001b[0m: scatter() missing 2 required positional arguments: 'x' and 'y'"
     ]
    }
   ],
   "source": [
    "plt.scatter()"
   ]
  },
  {
   "cell_type": "code",
   "execution_count": 11,
   "id": "893d2eb8-f9fa-4fd3-9710-24d81bdd04d9",
   "metadata": {},
   "outputs": [
    {
     "data": {
      "text/plain": [
       "<matplotlib.collections.PathCollection at 0x7f057c3f93f0>"
      ]
     },
     "execution_count": 11,
     "metadata": {},
     "output_type": "execute_result"
    },
    {
     "data": {
      "image/png": "[encoded data removed]",
      "text/plain": [
       "<Figure size 640x480 with 1 Axes>"
      ]
     },
     "metadata": {},
     "output_type": "display_data"
    }
   ],
   "source": [
    "plt.scatter(x=football_teams, y=champions_leagues)"
   ]
  },
  {
   "cell_type": "code",
   "execution_count": null,
   "id": "fcd96159-8a7d-4281-9874-63655eefdc0a",
   "metadata": {},
   "outputs": [],
   "source": []
  },
  {
   "cell_type": "code",
   "execution_count": 9,
   "id": "eae703f0-bb52-4f0b-b9be-a01e76f3f0d7",
   "metadata": {},
   "outputs": [
    {
     "data": {
      "text/plain": [
       "['Real Madrid', 'Barcelona', 'Bayern Munich']"
      ]
     },
     "execution_count": 9,
     "metadata": {},
     "output_type": "execute_result"
    }
   ],
   "source": [
    "football_teams"
   ]
  },
  {
   "cell_type": "code",
   "execution_count": 10,
   "id": "a12e6bc2-2ec0-46b0-b5ad-83781b7254b0",
   "metadata": {},
   "outputs": [
    {
     "data": {
      "text/plain": [
       "[14, 5, 6]"
      ]
     },
     "execution_count": 10,
     "metadata": {},
     "output_type": "execute_result"
    }
   ],
   "source": [
    "champions_leagues"
   ]
  },
  {
   "cell_type": "markdown",
   "id": "b5c3a074-741c-4c16-bf18-d54d575227e5",
   "metadata": {},
   "source": [
    "### Bar plot"
   ]
  },
  {
   "cell_type": "code",
   "execution_count": 13,
   "id": "2305df02-3e61-4945-9b3e-b2d52d2dd812",
   "metadata": {},
   "outputs": [
    {
     "data": {
      "text/plain": [
       "<BarContainer object of 3 artists>"
      ]
     },
     "execution_count": 13,
     "metadata": {},
     "output_type": "execute_result"
    },
    {
     "data": {
      "image/png": "[encoded data removed]",
      "text/plain": [
       "<Figure size 640x480 with 1 Axes>"
      ]
     },
     "metadata": {},
     "output_type": "display_data"
    }
   ],
   "source": [
    "plt.bar(x=football_teams, height=champions_leagues)"
   ]
  },
  {
   "cell_type": "code",
   "execution_count": null,
   "id": "d9e0edb2-9b0a-46e6-8d6a-c9bcdd78a0c4",
   "metadata": {},
   "outputs": [],
   "source": []
  },
  {
   "cell_type": "markdown",
   "id": "c09b202b-a617-43c9-a354-826b1a613cf7",
   "metadata": {},
   "source": [
    "### Many others"
   ]
  },
  {
   "cell_type": "code",
   "execution_count": null,
   "id": "fed6c908-9c89-4b75-b0fd-32c5faac2759",
   "metadata": {},
   "outputs": [],
   "source": []
  },
  {
   "cell_type": "markdown",
   "id": "e500aec9-79c2-471f-85ec-b418b18eea95",
   "metadata": {},
   "source": [
    "https://matplotlib.org/stable/plot_types/index"
   ]
  },
  {
   "cell_type": "markdown",
   "id": "254f8c0f-370b-40bc-9881-2b2c7c7a8b16",
   "metadata": {},
   "source": [
    "## Customize the plot"
   ]
  },
  {
   "cell_type": "markdown",
   "id": "03706466-9435-4e24-864b-150d062276ff",
   "metadata": {},
   "source": [
    "### Change the size"
   ]
  },
  {
   "cell_type": "code",
   "execution_count": 14,
   "id": "a7c91287-7571-4f21-9c67-9834bbf77fc2",
   "metadata": {},
   "outputs": [
    {
     "data": {
      "text/plain": [
       "<matplotlib.collections.PathCollection at 0x7f057c189f90>"
      ]
     },
     "execution_count": 14,
     "metadata": {},
     "output_type": "execute_result"
    },
    {
     "data": {
      "image/png": "[encoded data removed]",
      "text/plain": [
       "<Figure size 640x480 with 1 Axes>"
      ]
     },
     "metadata": {},
     "output_type": "display_data"
    }
   ],
   "source": [
    "plt.scatter(x=football_teams, y=champions_leagues, s=2)"
   ]
  },
  {
   "cell_type": "code",
   "execution_count": null,
   "id": "9ea9ab8a-79b6-46aa-b820-836514c2f58f",
   "metadata": {},
   "outputs": [],
   "source": [
    "shift + tab"
   ]
  },
  {
   "cell_type": "code",
   "execution_count": 15,
   "id": "c739efd5-d49c-48e0-bdad-0b2ab75e635d",
   "metadata": {},
   "outputs": [
    {
     "data": {
      "text/plain": [
       "<matplotlib.collections.PathCollection at 0x7f057c5d01f0>"
      ]
     },
     "execution_count": 15,
     "metadata": {},
     "output_type": "execute_result"
    },
    {
     "data": {
      "image/png": "[encoded data removed]",
      "text/plain": [
       "<Figure size 640x480 with 1 Axes>"
      ]
     },
     "metadata": {},
     "output_type": "display_data"
    }
   ],
   "source": [
    "plt.scatter(x=football_teams, y=champions_leagues, s=200)"
   ]
  },
  {
   "cell_type": "code",
   "execution_count": null,
   "id": "1222fa3b-88ad-42c6-8585-f8ba4069d9b7",
   "metadata": {},
   "outputs": [],
   "source": []
  },
  {
   "cell_type": "markdown",
   "id": "dfa1bed9-66ac-40e1-aef0-d919005b5999",
   "metadata": {
    "tags": []
   },
   "source": [
    "### Change the color"
   ]
  },
  {
   "cell_type": "code",
   "execution_count": 16,
   "id": "6140ec24-c8be-4432-b6d5-dc878442ec9b",
   "metadata": {},
   "outputs": [
    {
     "ename": "NameError",
     "evalue": "name 'red' is not defined",
     "output_type": "error",
     "traceback": [
      "\u001b[0;31m---------------------------------------------------------------------------\u001b[0m",
      "\u001b[0;31mNameError\u001b[0m                                 Traceback (most recent call last)",
      "Cell \u001b[0;32mIn[16], line 1\u001b[0m\n\u001b[0;32m----> 1\u001b[0m plt\u001b[38;5;241m.\u001b[39mscatter(x\u001b[38;5;241m=\u001b[39mfootball_teams, y\u001b[38;5;241m=\u001b[39mchampions_leagues, s\u001b[38;5;241m=\u001b[39m\u001b[38;5;241m200\u001b[39m, c\u001b[38;5;241m=\u001b[39m\u001b[43mred\u001b[49m)\n",
      "\u001b[0;31mNameError\u001b[0m: name 'red' is not defined"
     ]
    }
   ],
   "source": [
    "plt.scatter(x=football_teams, y=champions_leagues, s=200, c=red)"
   ]
  },
  {
   "cell_type": "markdown",
   "id": "676796aa-95c8-4b86-9781-c931d0622190",
   "metadata": {},
   "source": [
    "que esta definido?"
   ]
  },
  {
   "cell_type": "code",
   "execution_count": 17,
   "id": "316f5e5c-e46d-4905-960d-343f0bc882f1",
   "metadata": {},
   "outputs": [
    {
     "data": {
      "text/plain": [
       "7"
      ]
     },
     "execution_count": 17,
     "metadata": {},
     "output_type": "execute_result"
    }
   ],
   "source": [
    "7"
   ]
  },
  {
   "cell_type": "code",
   "execution_count": 18,
   "id": "822fa5e4-d950-4f41-a70a-e67cd423aa7a",
   "metadata": {},
   "outputs": [
    {
     "data": {
      "text/plain": [
       "<module 'matplotlib.pyplot' from '/home/codespace/.local/lib/python3.10/site-packages/matplotlib/pyplot.py'>"
      ]
     },
     "execution_count": 18,
     "metadata": {},
     "output_type": "execute_result"
    }
   ],
   "source": [
    "plt"
   ]
  },
  {
   "cell_type": "code",
   "execution_count": 19,
   "id": "a498b906-e48e-4279-9082-6aea892d449d",
   "metadata": {},
   "outputs": [
    {
     "data": {
      "text/plain": [
       "<function matplotlib.pyplot.scatter(x: 'float | ArrayLike', y: 'float | ArrayLike', s: 'float | ArrayLike | None' = None, c: 'Sequence[ColorType] | ColorType | None' = None, marker: 'MarkerType | None' = None, cmap: 'str | Colormap | None' = None, norm: 'str | Normalize | None' = None, vmin: 'float | None' = None, vmax: 'float | None' = None, alpha: 'float | None' = None, linewidths: 'float | Sequence[float] | None' = None, *, edgecolors: \"Literal['face', 'none'] | ColorType | Sequence[ColorType] | None\" = None, plotnonfinite: 'bool' = False, data=None, **kwargs) -> 'PathCollection'>"
      ]
     },
     "execution_count": 19,
     "metadata": {},
     "output_type": "execute_result"
    }
   ],
   "source": [
    "plt.scatter"
   ]
  },
  {
   "cell_type": "code",
   "execution_count": 20,
   "id": "2ae5f8d0-0dbd-44e8-945a-d6b174d94693",
   "metadata": {},
   "outputs": [
    {
     "data": {
      "text/plain": [
       "'red'"
      ]
     },
     "execution_count": 20,
     "metadata": {},
     "output_type": "execute_result"
    }
   ],
   "source": [
    "'red'"
   ]
  },
  {
   "cell_type": "code",
   "execution_count": 21,
   "id": "4bb8cc98-d0e4-4ab0-8477-fa4b3f149359",
   "metadata": {},
   "outputs": [
    {
     "ename": "NameError",
     "evalue": "name 'red' is not defined",
     "output_type": "error",
     "traceback": [
      "\u001b[0;31m---------------------------------------------------------------------------\u001b[0m",
      "\u001b[0;31mNameError\u001b[0m                                 Traceback (most recent call last)",
      "Cell \u001b[0;32mIn[21], line 1\u001b[0m\n\u001b[0;32m----> 1\u001b[0m \u001b[43mred\u001b[49m\n",
      "\u001b[0;31mNameError\u001b[0m: name 'red' is not defined"
     ]
    }
   ],
   "source": [
    "red"
   ]
  },
  {
   "cell_type": "code",
   "execution_count": 22,
   "id": "e045d2bf-1590-475e-9173-e79c047aaf2c",
   "metadata": {},
   "outputs": [
    {
     "data": {
      "text/plain": [
       "<matplotlib.collections.PathCollection at 0x7f057c554f70>"
      ]
     },
     "execution_count": 22,
     "metadata": {},
     "output_type": "execute_result"
    },
    {
     "data": {
      "image/png": "[encoded data removed]",
      "text/plain": [
       "<Figure size 640x480 with 1 Axes>"
      ]
     },
     "metadata": {},
     "output_type": "display_data"
    }
   ],
   "source": [
    "plt.scatter(x=football_teams, y=champions_leagues, s=200, c='red')"
   ]
  },
  {
   "cell_type": "code",
   "execution_count": 24,
   "id": "c5619e70-e8cb-43f4-bde9-3ea3b28e89e9",
   "metadata": {},
   "outputs": [],
   "source": [
    "red = 'green'"
   ]
  },
  {
   "cell_type": "code",
   "execution_count": 25,
   "id": "3936725f-88b3-4c5f-9522-3881955400c7",
   "metadata": {},
   "outputs": [
    {
     "data": {
      "text/plain": [
       "<matplotlib.collections.PathCollection at 0x7f057ca45f90>"
      ]
     },
     "execution_count": 25,
     "metadata": {},
     "output_type": "execute_result"
    },
    {
     "data": {
      "image/png": "[encoded data removed]",
      "text/plain": [
       "<Figure size 640x480 with 1 Axes>"
      ]
     },
     "metadata": {},
     "output_type": "display_data"
    }
   ],
   "source": [
    "plt.scatter(x=football_teams, y=champions_leagues, s=200, c=red)"
   ]
  },
  {
   "cell_type": "code",
   "execution_count": 26,
   "id": "2fd25b53-3b17-402b-9460-28c08eaaa409",
   "metadata": {},
   "outputs": [
    {
     "ename": "NameError",
     "evalue": "name 'pepa' is not defined",
     "output_type": "error",
     "traceback": [
      "\u001b[0;31m---------------------------------------------------------------------------\u001b[0m",
      "\u001b[0;31mNameError\u001b[0m                                 Traceback (most recent call last)",
      "Cell \u001b[0;32mIn[26], line 1\u001b[0m\n\u001b[0;32m----> 1\u001b[0m \u001b[43mpepa\u001b[49m\n",
      "\u001b[0;31mNameError\u001b[0m: name 'pepa' is not defined"
     ]
    }
   ],
   "source": [
    "pepa"
   ]
  },
  {
   "cell_type": "code",
   "execution_count": 27,
   "id": "4a853a01-50d4-4b12-b2f2-de43358aa84f",
   "metadata": {},
   "outputs": [],
   "source": [
    "import matplotlib.pyplot as pepa"
   ]
  },
  {
   "cell_type": "code",
   "execution_count": 28,
   "id": "ae49fc8a-edbd-4fe6-b941-9e1c44ba2275",
   "metadata": {},
   "outputs": [
    {
     "data": {
      "text/plain": [
       "<module 'matplotlib.pyplot' from '/home/codespace/.local/lib/python3.10/site-packages/matplotlib/pyplot.py'>"
      ]
     },
     "execution_count": 28,
     "metadata": {},
     "output_type": "execute_result"
    }
   ],
   "source": [
    "pepa"
   ]
  },
  {
   "cell_type": "code",
   "execution_count": 27,
   "id": "2d517375-3870-4b3a-88f3-175467700f14",
   "metadata": {},
   "outputs": [],
   "source": [
    "import matplotlib.pyplot as plt"
   ]
  },
  {
   "cell_type": "markdown",
   "id": "17793a56-96e4-48aa-8784-74fcfb361f41",
   "metadata": {},
   "source": [
    "### Change the marker"
   ]
  },
  {
   "cell_type": "markdown",
   "id": "e7c1226c-781d-4d6e-8eba-7f5a0262cb80",
   "metadata": {},
   "source": [
    "https://matplotlib.org/stable/api/markers_api.html"
   ]
  },
  {
   "cell_type": "code",
   "execution_count": 30,
   "id": "0203ee6c-efe2-4462-8359-a78aa7646d1c",
   "metadata": {},
   "outputs": [
    {
     "data": {
      "text/plain": [
       "<matplotlib.collections.PathCollection at 0x7f057c98f490>"
      ]
     },
     "execution_count": 30,
     "metadata": {},
     "output_type": "execute_result"
    },
    {
     "data": {
      "image/png": "[encoded data removed]",
      "text/plain": [
       "<Figure size 640x480 with 1 Axes>"
      ]
     },
     "metadata": {},
     "output_type": "display_data"
    }
   ],
   "source": [
    "plt.scatter(x=football_teams, y=champions_leagues, s=200, c=red, marker='X')"
   ]
  },
  {
   "cell_type": "code",
   "execution_count": null,
   "id": "c1df3c9d-2aa3-4540-9926-1185df12cd1c",
   "metadata": {},
   "outputs": [],
   "source": []
  },
  {
   "cell_type": "markdown",
   "id": "13a02cd9-eaa8-4524-89b7-1a1d7d3f11a5",
   "metadata": {},
   "source": [
    "### Change the border"
   ]
  },
  {
   "cell_type": "code",
   "execution_count": 31,
   "id": "04683a77-ef31-4b46-a4c9-2190eb8f1562",
   "metadata": {},
   "outputs": [
    {
     "data": {
      "text/plain": [
       "<matplotlib.collections.PathCollection at 0x7f056fe03dc0>"
      ]
     },
     "execution_count": 31,
     "metadata": {},
     "output_type": "execute_result"
    },
    {
     "data": {
      "image/png": "[encoded data removed]",
      "text/plain": [
       "<Figure size 640x480 with 1 Axes>"
      ]
     },
     "metadata": {},
     "output_type": "display_data"
    }
   ],
   "source": [
    "plt.scatter(x=football_teams, y=champions_leagues, s=200, c=red, marker='X', edgecolors='red')"
   ]
  },
  {
   "cell_type": "code",
   "execution_count": null,
   "id": "11b12c16-6992-4111-8168-4cc87e621e6b",
   "metadata": {},
   "outputs": [],
   "source": []
  }
 ],
 "metadata": {
  "kernelspec": {
   "display_name": "Python 3 (ipykernel)",
   "language": "python",
   "name": "python3"
  },
  "language_info": {
   "codemirror_mode": {
    "name": "ipython",
    "version": 3
   },
   "file_extension": ".py",
   "mimetype": "text/x-python",
   "name": "python",
   "nbconvert_exporter": "python",
   "pygments_lexer": "ipython3",
   "version": "3.10.8"
  },
  "toc-autonumbering": true
 },
 "nbformat": 4,
 "nbformat_minor": 5
}
